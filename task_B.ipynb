{
  "nbformat": 4,
  "nbformat_minor": 0,
  "metadata": {
    "colab": {
      "provenance": [],
      "authorship_tag": "ABX9TyP1WkiaES6Hls/O/gaPmf4I",
      "include_colab_link": true
    },
    "kernelspec": {
      "name": "python3",
      "display_name": "Python 3"
    },
    "language_info": {
      "name": "python"
    }
  },
  "cells": [
    {
      "cell_type": "markdown",
      "metadata": {
        "id": "view-in-github",
        "colab_type": "text"
      },
      "source": [
        "<a href=\"https://colab.research.google.com/github/Indhuvenkat/data_engineer_task/blob/main/task_B.ipynb\" target=\"_parent\"><img src=\"https://colab.research.google.com/assets/colab-badge.svg\" alt=\"Open In Colab\"/></a>"
      ]
    },
    {
      "cell_type": "code",
      "execution_count": 2,
      "metadata": {
        "id": "1B2yCMwH5VCQ",
        "colab": {
          "base_uri": "https://localhost:8080/"
        },
        "outputId": "86212c95-e0fd-4b91-fe00-52c74fcc8bdb"
      },
      "outputs": [
        {
          "output_type": "stream",
          "name": "stdout",
          "text": [
            "✅ Cleaned file saved at employees_cleaned.xlsx\n"
          ]
        },
        {
          "output_type": "stream",
          "name": "stderr",
          "text": [
            "/tmp/ipython-input-783946230.py:11: UserWarning: Parsing dates in %d/%m/%Y format when dayfirst=False (the default) was specified. Pass `dayfirst=True` or specify a format to silence this warning.\n",
            "  return pd.to_datetime(date_value, errors=\"coerce\").strftime(\"%Y-%m-%d\")\n"
          ]
        }
      ],
      "source": [
        "import sys, pandas as pd, numpy as np\n",
        "from datetime import datetime\n",
        "from pathlib import Path\n",
        "\n",
        "def standardize_name(name):\n",
        "    if pd.isna(name): return \"\"\n",
        "    return str(name).title()\n",
        "\n",
        "def normalize_date(date_value):\n",
        "    try:\n",
        "        return pd.to_datetime(date_value, errors=\"coerce\").strftime(\"%Y-%m-%d\")\n",
        "    except Exception:\n",
        "        return None\n",
        "\n",
        "def clean_salary(value):\n",
        "    if pd.isna(value): return np.nan\n",
        "    value = str(value).replace(\",\", \"\").replace(\"₹\", \"\").replace(\"$\", \"\").strip()\n",
        "    try:\n",
        "        return float(value)\n",
        "    except:\n",
        "        return np.nan\n",
        "\n",
        "def clean_employees(input_path, output_path):\n",
        "    df = pd.read_excel(input_path)\n",
        "\n",
        "    df[\"FullName\"] = df[\"FullName\"].apply(standardize_name)\n",
        "    df[\"JoiningDate\"] = df[\"JoiningDate\"].apply(normalize_date)\n",
        "    df[\"Salary\"] = df[\"Salary\"].apply(clean_salary)\n",
        "    df[\"Email\"] = df[\"Email\"].fillna(\"not_provided@company.com\")\n",
        "\n",
        "    today = pd.Timestamp.now()\n",
        "    df[\"Experience_Years\"] = df[\"JoiningDate\"].apply(\n",
        "        lambda d: round((today - pd.Timestamp(d)).days / 365, 2)\n",
        "        if pd.notna(d) else np.nan\n",
        "    )\n",
        "\n",
        "    df.to_excel(output_path, index=False)\n",
        "    print(f\"✅ Cleaned file saved at {output_path}\")\n",
        "\n",
        "if __name__ == \"__main__\":\n",
        "    if len(sys.argv) != 3:\n",
        "        print(\"Usage: python clean_employees.py input.xlsx output.xlsx\")\n",
        "    else:\n",
        "        clean_employees(\"employees.xlsx\", \"employees_cleaned.xlsx\")\n",
        "\n",
        "\n",
        "#command to run the file: python clean_employees.py employees.xlsx employees_cleaned.xlsx\n",
        "\n",
        "\n"
      ]
    }
  ]
}